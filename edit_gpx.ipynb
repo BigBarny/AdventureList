{
 "cells": [
  {
   "cell_type": "code",
   "execution_count": 12,
   "metadata": {},
   "outputs": [],
   "source": [
    "\n",
    "import gpxpy\n",
    "import numpy as np\n",
    "import requests\n",
    "\n",
    "\n",
    "API_KEY = 'ak_iGPaISHH_r1gP6WFCvgu0C6H4'  # Get a free key from www.gpxz.io.\n",
    "BATCH_SIZE = 50  # 512 for paid customers.\n",
    "\n",
    "\n",
    "def gpxz_elevation(lats, lons):\n",
    "    '''Iterate over the coordinates in chunks, querying the GPXZ api to return\n",
    "    a list of elevations in the same order.'''\n",
    "    elevations = []\n",
    "    n_chunks = int(len(lats) // BATCH_SIZE)  + 1\n",
    "    lat_chunks = np.array_split(lats, n_chunks) \n",
    "    lon_chunks = np.array_split(lons, n_chunks)\n",
    "    for lat_chunk, lon_chunk in zigit remote add origin https://github.com/BigBarny/AdventureList.git\n",
    "p(lat_chunks, lon_chunks):\n",
    "        latlons = '|'.join(f'{lat},{lon}' for lat, lon in zip(lat_chunk, lon_chunk))\n",
    "        response = requests.post(\n",
    "            'https://api.gpxz.io/v1/elevation/points', \n",
    "            headers={'x-api-key': API_KEY},\n",
    "            data={'latlons': latlons},\n",
    "        )\n",
    "        response.raise_for_status()\n",
    "        elevations += [r['elevation'] for r in response.json()['results']]\n",
    "    return elevations\n",
    "\n",
    "\n",
    "def add_elevation_to_gpx(gpx_path, output_path='with_elevation.gpx'):\n",
    "    # Load gpx.\n",
    "    #gpx_path = 'run.gpx'\n",
    "    with open(gpx_path) as f:\n",
    "        gpx = gpxpy.parse(f)\n",
    "\n",
    "    # Find points.\n",
    "    points = list(gpx.walk(only_points=True))\n",
    "    latitudes = [p.latitude for p in points]\n",
    "    longitudes = [p.longitude for p in points]\n",
    "\n",
    "    # Update elevations.\n",
    "    elevations = gpxz_elevation(latitudes, longitudes)\n",
    "    for point, elevation in zip(points, elevations):\n",
    "        point.elevation = elevation\n",
    "\n",
    "    # Save gpx file.\n",
    "    with open(output_path, 'w') as f:\n",
    "        f.write(gpx.to_xml())\n",
    "\n"
   ]
  },
  {
   "cell_type": "code",
   "execution_count": 13,
   "metadata": {},
   "outputs": [
    {
     "ename": "HTTPError",
     "evalue": "429 Client Error: Too Many Requests for url: https://api.gpxz.io/v1/elevation/points",
     "output_type": "error",
     "traceback": [
      "\u001b[1;31m---------------------------------------------------------------------------\u001b[0m",
      "\u001b[1;31mHTTPError\u001b[0m                                 Traceback (most recent call last)",
      "\u001b[1;32m~\\AppData\\Local\\Temp\\ipykernel_23636\\1136448836.py\u001b[0m in \u001b[0;36m<module>\u001b[1;34m\u001b[0m\n\u001b[0;32m      1\u001b[0m \u001b[0mfolder\u001b[0m \u001b[1;33m=\u001b[0m \u001b[1;34m\"Munro bagging\"\u001b[0m\u001b[1;33m\u001b[0m\u001b[1;33m\u001b[0m\u001b[0m\n\u001b[0;32m      2\u001b[0m \u001b[0mfname\u001b[0m \u001b[1;33m=\u001b[0m \u001b[1;34m\"mullardoch.gpx\"\u001b[0m\u001b[1;33m\u001b[0m\u001b[1;33m\u001b[0m\u001b[0m\n\u001b[1;32m----> 3\u001b[1;33m \u001b[0madd_elevation_to_gpx\u001b[0m\u001b[1;33m(\u001b[0m\u001b[0mfolder\u001b[0m\u001b[1;33m+\u001b[0m\u001b[1;34m'/'\u001b[0m\u001b[1;33m+\u001b[0m\u001b[0mfname\u001b[0m\u001b[1;33m,\u001b[0m\u001b[0mfolder\u001b[0m\u001b[1;33m+\u001b[0m\u001b[1;34m'/'\u001b[0m\u001b[1;33m+\u001b[0m\u001b[0mfname\u001b[0m\u001b[1;33m)\u001b[0m\u001b[1;33m\u001b[0m\u001b[1;33m\u001b[0m\u001b[0m\n\u001b[0m",
      "\u001b[1;32m~\\AppData\\Local\\Temp\\ipykernel_23636\\510535069.py\u001b[0m in \u001b[0;36madd_elevation_to_gpx\u001b[1;34m(gpx_path, output_path)\u001b[0m\n\u001b[0;32m     39\u001b[0m \u001b[1;33m\u001b[0m\u001b[0m\n\u001b[0;32m     40\u001b[0m     \u001b[1;31m# Update elevations.\u001b[0m\u001b[1;33m\u001b[0m\u001b[1;33m\u001b[0m\u001b[1;33m\u001b[0m\u001b[0m\n\u001b[1;32m---> 41\u001b[1;33m     \u001b[0melevations\u001b[0m \u001b[1;33m=\u001b[0m \u001b[0mgpxz_elevation\u001b[0m\u001b[1;33m(\u001b[0m\u001b[0mlatitudes\u001b[0m\u001b[1;33m,\u001b[0m \u001b[0mlongitudes\u001b[0m\u001b[1;33m)\u001b[0m\u001b[1;33m\u001b[0m\u001b[1;33m\u001b[0m\u001b[0m\n\u001b[0m\u001b[0;32m     42\u001b[0m     \u001b[1;32mfor\u001b[0m \u001b[0mpoint\u001b[0m\u001b[1;33m,\u001b[0m \u001b[0melevation\u001b[0m \u001b[1;32min\u001b[0m \u001b[0mzip\u001b[0m\u001b[1;33m(\u001b[0m\u001b[0mpoints\u001b[0m\u001b[1;33m,\u001b[0m \u001b[0melevations\u001b[0m\u001b[1;33m)\u001b[0m\u001b[1;33m:\u001b[0m\u001b[1;33m\u001b[0m\u001b[1;33m\u001b[0m\u001b[0m\n\u001b[0;32m     43\u001b[0m         \u001b[0mpoint\u001b[0m\u001b[1;33m.\u001b[0m\u001b[0melevation\u001b[0m \u001b[1;33m=\u001b[0m \u001b[0melevation\u001b[0m\u001b[1;33m\u001b[0m\u001b[1;33m\u001b[0m\u001b[0m\n",
      "\u001b[1;32m~\\AppData\\Local\\Temp\\ipykernel_23636\\510535069.py\u001b[0m in \u001b[0;36mgpxz_elevation\u001b[1;34m(lats, lons)\u001b[0m\n\u001b[0;32m     22\u001b[0m             \u001b[0mdata\u001b[0m\u001b[1;33m=\u001b[0m\u001b[1;33m{\u001b[0m\u001b[1;34m'latlons'\u001b[0m\u001b[1;33m:\u001b[0m \u001b[0mlatlons\u001b[0m\u001b[1;33m}\u001b[0m\u001b[1;33m,\u001b[0m\u001b[1;33m\u001b[0m\u001b[1;33m\u001b[0m\u001b[0m\n\u001b[0;32m     23\u001b[0m         )\n\u001b[1;32m---> 24\u001b[1;33m         \u001b[0mresponse\u001b[0m\u001b[1;33m.\u001b[0m\u001b[0mraise_for_status\u001b[0m\u001b[1;33m(\u001b[0m\u001b[1;33m)\u001b[0m\u001b[1;33m\u001b[0m\u001b[1;33m\u001b[0m\u001b[0m\n\u001b[0m\u001b[0;32m     25\u001b[0m         \u001b[0melevations\u001b[0m \u001b[1;33m+=\u001b[0m \u001b[1;33m[\u001b[0m\u001b[0mr\u001b[0m\u001b[1;33m[\u001b[0m\u001b[1;34m'elevation'\u001b[0m\u001b[1;33m]\u001b[0m \u001b[1;32mfor\u001b[0m \u001b[0mr\u001b[0m \u001b[1;32min\u001b[0m \u001b[0mresponse\u001b[0m\u001b[1;33m.\u001b[0m\u001b[0mjson\u001b[0m\u001b[1;33m(\u001b[0m\u001b[1;33m)\u001b[0m\u001b[1;33m[\u001b[0m\u001b[1;34m'results'\u001b[0m\u001b[1;33m]\u001b[0m\u001b[1;33m]\u001b[0m\u001b[1;33m\u001b[0m\u001b[1;33m\u001b[0m\u001b[0m\n\u001b[0;32m     26\u001b[0m     \u001b[1;32mreturn\u001b[0m \u001b[0melevations\u001b[0m\u001b[1;33m\u001b[0m\u001b[1;33m\u001b[0m\u001b[0m\n",
      "\u001b[1;32mD:\\Programs\\Python37\\lib\\site-packages\\requests\\models.py\u001b[0m in \u001b[0;36mraise_for_status\u001b[1;34m(self)\u001b[0m\n\u001b[0;32m    941\u001b[0m \u001b[1;33m\u001b[0m\u001b[0m\n\u001b[0;32m    942\u001b[0m         \u001b[1;32mif\u001b[0m \u001b[0mhttp_error_msg\u001b[0m\u001b[1;33m:\u001b[0m\u001b[1;33m\u001b[0m\u001b[1;33m\u001b[0m\u001b[0m\n\u001b[1;32m--> 943\u001b[1;33m             \u001b[1;32mraise\u001b[0m \u001b[0mHTTPError\u001b[0m\u001b[1;33m(\u001b[0m\u001b[0mhttp_error_msg\u001b[0m\u001b[1;33m,\u001b[0m \u001b[0mresponse\u001b[0m\u001b[1;33m=\u001b[0m\u001b[0mself\u001b[0m\u001b[1;33m)\u001b[0m\u001b[1;33m\u001b[0m\u001b[1;33m\u001b[0m\u001b[0m\n\u001b[0m\u001b[0;32m    944\u001b[0m \u001b[1;33m\u001b[0m\u001b[0m\n\u001b[0;32m    945\u001b[0m     \u001b[1;32mdef\u001b[0m \u001b[0mclose\u001b[0m\u001b[1;33m(\u001b[0m\u001b[0mself\u001b[0m\u001b[1;33m)\u001b[0m\u001b[1;33m:\u001b[0m\u001b[1;33m\u001b[0m\u001b[1;33m\u001b[0m\u001b[0m\n",
      "\u001b[1;31mHTTPError\u001b[0m: 429 Client Error: Too Many Requests for url: https://api.gpxz.io/v1/elevation/points"
     ]
    }
   ],
   "source": [
    "folder = \"Munro bagging\"\n",
    "fname = \"mullardoch.gpx\"\n",
    "add_elevation_to_gpx(folder+'/'+fname,folder+'/'+fname)"
   ]
  },
  {
   "cell_type": "code",
   "execution_count": null,
   "metadata": {},
   "outputs": [],
   "source": []
  },
  {
   "cell_type": "code",
   "execution_count": null,
   "metadata": {},
   "outputs": [],
   "source": []
  }
 ],
 "metadata": {
  "interpreter": {
   "hash": "9789d28df9445cd04b31163c3b9430d93a8aea8fd05e033dd49d31d8725a47fa"
  },
  "kernelspec": {
   "display_name": "Python 3.7.7 64-bit (system)",
   "name": "python3"
  },
  "language_info": {
   "codemirror_mode": {
    "name": "ipython",
    "version": 3
   },
   "file_extension": ".py",
   "mimetype": "text/x-python",
   "name": "python",
   "nbconvert_exporter": "python",
   "pygments_lexer": "ipython3",
   "version": "3.7.7"
  },
  "orig_nbformat": 4
 },
 "nbformat": 4,
 "nbformat_minor": 2
}
