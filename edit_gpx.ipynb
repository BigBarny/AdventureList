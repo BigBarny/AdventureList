{
 "cells": [
  {
   "cell_type": "code",
   "execution_count": 12,
   "source": [
    "\r\n",
    "import gpxpy\r\n",
    "import numpy as np\r\n",
    "import requests\r\n",
    "\r\n",
    "\r\n",
    "API_KEY = 'ak_iGPaISHH_r1gP6WFCvgu0C6H4'  # Get a free key from www.gpxz.io.\r\n",
    "BATCH_SIZE = 50  # 512 for paid customers.\r\n",
    "\r\n",
    "\r\n",
    "def gpxz_elevation(lats, lons):\r\n",
    "    '''Iterate over the coordinates in chunks, querying the GPXZ api to return\r\n",
    "    a list of elevations in the same order.'''\r\n",
    "    elevations = []\r\n",
    "    n_chunks = int(len(lats) // BATCH_SIZE)  + 1\r\n",
    "    lat_chunks = np.array_split(lats, n_chunks) \r\n",
    "    lon_chunks = np.array_split(lons, n_chunks)\r\n",
    "    for lat_chunk, lon_chunk in zip(lat_chunks, lon_chunks):\r\n",
    "        latlons = '|'.join(f'{lat},{lon}' for lat, lon in zip(lat_chunk, lon_chunk))\r\n",
    "        response = requests.post(\r\n",
    "            'https://api.gpxz.io/v1/elevation/points', \r\n",
    "            headers={'x-api-key': API_KEY},\r\n",
    "            data={'latlons': latlons},\r\n",
    "        )\r\n",
    "        response.raise_for_status()\r\n",
    "        elevations += [r['elevation'] for r in response.json()['results']]\r\n",
    "    return elevations\r\n",
    "\r\n",
    "\r\n",
    "def add_elevation_to_gpx(gpx_path, output_path='with_elevation.gpx'):\r\n",
    "    # Load gpx.\r\n",
    "    #gpx_path = 'run.gpx'\r\n",
    "    with open(gpx_path) as f:\r\n",
    "        gpx = gpxpy.parse(f)\r\n",
    "\r\n",
    "    # Find points.\r\n",
    "    points = list(gpx.walk(only_points=True))\r\n",
    "    latitudes = [p.latitude for p in points]\r\n",
    "    longitudes = [p.longitude for p in points]\r\n",
    "\r\n",
    "    # Update elevations.\r\n",
    "    elevations = gpxz_elevation(latitudes, longitudes)\r\n",
    "    for point, elevation in zip(points, elevations):\r\n",
    "        point.elevation = elevation\r\n",
    "\r\n",
    "    # Save gpx file.\r\n",
    "    with open(output_path, 'w') as f:\r\n",
    "        f.write(gpx.to_xml())\r\n",
    "\r\n"
   ],
   "outputs": [],
   "metadata": {}
  },
  {
   "cell_type": "code",
   "execution_count": 13,
   "source": [
    "folder = \"Munro bagging\"\r\n",
    "fname = \"mullardoch.gpx\"\r\n",
    "add_elevation_to_gpx(folder+'/'+fname,folder+'/'+fname)"
   ],
   "outputs": [
    {
     "output_type": "error",
     "ename": "HTTPError",
     "evalue": "429 Client Error: Too Many Requests for url: https://api.gpxz.io/v1/elevation/points",
     "traceback": [
      "\u001b[1;31m---------------------------------------------------------------------------\u001b[0m",
      "\u001b[1;31mHTTPError\u001b[0m                                 Traceback (most recent call last)",
      "\u001b[1;32m~\\AppData\\Local\\Temp\\ipykernel_23636\\1136448836.py\u001b[0m in \u001b[0;36m<module>\u001b[1;34m\u001b[0m\n\u001b[0;32m      1\u001b[0m \u001b[0mfolder\u001b[0m \u001b[1;33m=\u001b[0m \u001b[1;34m\"Munro bagging\"\u001b[0m\u001b[1;33m\u001b[0m\u001b[1;33m\u001b[0m\u001b[0m\n\u001b[0;32m      2\u001b[0m \u001b[0mfname\u001b[0m \u001b[1;33m=\u001b[0m \u001b[1;34m\"mullardoch.gpx\"\u001b[0m\u001b[1;33m\u001b[0m\u001b[1;33m\u001b[0m\u001b[0m\n\u001b[1;32m----> 3\u001b[1;33m \u001b[0madd_elevation_to_gpx\u001b[0m\u001b[1;33m(\u001b[0m\u001b[0mfolder\u001b[0m\u001b[1;33m+\u001b[0m\u001b[1;34m'/'\u001b[0m\u001b[1;33m+\u001b[0m\u001b[0mfname\u001b[0m\u001b[1;33m,\u001b[0m\u001b[0mfolder\u001b[0m\u001b[1;33m+\u001b[0m\u001b[1;34m'/'\u001b[0m\u001b[1;33m+\u001b[0m\u001b[0mfname\u001b[0m\u001b[1;33m)\u001b[0m\u001b[1;33m\u001b[0m\u001b[1;33m\u001b[0m\u001b[0m\n\u001b[0m",
      "\u001b[1;32m~\\AppData\\Local\\Temp\\ipykernel_23636\\510535069.py\u001b[0m in \u001b[0;36madd_elevation_to_gpx\u001b[1;34m(gpx_path, output_path)\u001b[0m\n\u001b[0;32m     39\u001b[0m \u001b[1;33m\u001b[0m\u001b[0m\n\u001b[0;32m     40\u001b[0m     \u001b[1;31m# Update elevations.\u001b[0m\u001b[1;33m\u001b[0m\u001b[1;33m\u001b[0m\u001b[1;33m\u001b[0m\u001b[0m\n\u001b[1;32m---> 41\u001b[1;33m     \u001b[0melevations\u001b[0m \u001b[1;33m=\u001b[0m \u001b[0mgpxz_elevation\u001b[0m\u001b[1;33m(\u001b[0m\u001b[0mlatitudes\u001b[0m\u001b[1;33m,\u001b[0m \u001b[0mlongitudes\u001b[0m\u001b[1;33m)\u001b[0m\u001b[1;33m\u001b[0m\u001b[1;33m\u001b[0m\u001b[0m\n\u001b[0m\u001b[0;32m     42\u001b[0m     \u001b[1;32mfor\u001b[0m \u001b[0mpoint\u001b[0m\u001b[1;33m,\u001b[0m \u001b[0melevation\u001b[0m \u001b[1;32min\u001b[0m \u001b[0mzip\u001b[0m\u001b[1;33m(\u001b[0m\u001b[0mpoints\u001b[0m\u001b[1;33m,\u001b[0m \u001b[0melevations\u001b[0m\u001b[1;33m)\u001b[0m\u001b[1;33m:\u001b[0m\u001b[1;33m\u001b[0m\u001b[1;33m\u001b[0m\u001b[0m\n\u001b[0;32m     43\u001b[0m         \u001b[0mpoint\u001b[0m\u001b[1;33m.\u001b[0m\u001b[0melevation\u001b[0m \u001b[1;33m=\u001b[0m \u001b[0melevation\u001b[0m\u001b[1;33m\u001b[0m\u001b[1;33m\u001b[0m\u001b[0m\n",
      "\u001b[1;32m~\\AppData\\Local\\Temp\\ipykernel_23636\\510535069.py\u001b[0m in \u001b[0;36mgpxz_elevation\u001b[1;34m(lats, lons)\u001b[0m\n\u001b[0;32m     22\u001b[0m             \u001b[0mdata\u001b[0m\u001b[1;33m=\u001b[0m\u001b[1;33m{\u001b[0m\u001b[1;34m'latlons'\u001b[0m\u001b[1;33m:\u001b[0m \u001b[0mlatlons\u001b[0m\u001b[1;33m}\u001b[0m\u001b[1;33m,\u001b[0m\u001b[1;33m\u001b[0m\u001b[1;33m\u001b[0m\u001b[0m\n\u001b[0;32m     23\u001b[0m         )\n\u001b[1;32m---> 24\u001b[1;33m         \u001b[0mresponse\u001b[0m\u001b[1;33m.\u001b[0m\u001b[0mraise_for_status\u001b[0m\u001b[1;33m(\u001b[0m\u001b[1;33m)\u001b[0m\u001b[1;33m\u001b[0m\u001b[1;33m\u001b[0m\u001b[0m\n\u001b[0m\u001b[0;32m     25\u001b[0m         \u001b[0melevations\u001b[0m \u001b[1;33m+=\u001b[0m \u001b[1;33m[\u001b[0m\u001b[0mr\u001b[0m\u001b[1;33m[\u001b[0m\u001b[1;34m'elevation'\u001b[0m\u001b[1;33m]\u001b[0m \u001b[1;32mfor\u001b[0m \u001b[0mr\u001b[0m \u001b[1;32min\u001b[0m \u001b[0mresponse\u001b[0m\u001b[1;33m.\u001b[0m\u001b[0mjson\u001b[0m\u001b[1;33m(\u001b[0m\u001b[1;33m)\u001b[0m\u001b[1;33m[\u001b[0m\u001b[1;34m'results'\u001b[0m\u001b[1;33m]\u001b[0m\u001b[1;33m]\u001b[0m\u001b[1;33m\u001b[0m\u001b[1;33m\u001b[0m\u001b[0m\n\u001b[0;32m     26\u001b[0m     \u001b[1;32mreturn\u001b[0m \u001b[0melevations\u001b[0m\u001b[1;33m\u001b[0m\u001b[1;33m\u001b[0m\u001b[0m\n",
      "\u001b[1;32mD:\\Programs\\Python37\\lib\\site-packages\\requests\\models.py\u001b[0m in \u001b[0;36mraise_for_status\u001b[1;34m(self)\u001b[0m\n\u001b[0;32m    941\u001b[0m \u001b[1;33m\u001b[0m\u001b[0m\n\u001b[0;32m    942\u001b[0m         \u001b[1;32mif\u001b[0m \u001b[0mhttp_error_msg\u001b[0m\u001b[1;33m:\u001b[0m\u001b[1;33m\u001b[0m\u001b[1;33m\u001b[0m\u001b[0m\n\u001b[1;32m--> 943\u001b[1;33m             \u001b[1;32mraise\u001b[0m \u001b[0mHTTPError\u001b[0m\u001b[1;33m(\u001b[0m\u001b[0mhttp_error_msg\u001b[0m\u001b[1;33m,\u001b[0m \u001b[0mresponse\u001b[0m\u001b[1;33m=\u001b[0m\u001b[0mself\u001b[0m\u001b[1;33m)\u001b[0m\u001b[1;33m\u001b[0m\u001b[1;33m\u001b[0m\u001b[0m\n\u001b[0m\u001b[0;32m    944\u001b[0m \u001b[1;33m\u001b[0m\u001b[0m\n\u001b[0;32m    945\u001b[0m     \u001b[1;32mdef\u001b[0m \u001b[0mclose\u001b[0m\u001b[1;33m(\u001b[0m\u001b[0mself\u001b[0m\u001b[1;33m)\u001b[0m\u001b[1;33m:\u001b[0m\u001b[1;33m\u001b[0m\u001b[1;33m\u001b[0m\u001b[0m\n",
      "\u001b[1;31mHTTPError\u001b[0m: 429 Client Error: Too Many Requests for url: https://api.gpxz.io/v1/elevation/points"
     ]
    }
   ],
   "metadata": {}
  },
  {
   "cell_type": "code",
   "execution_count": null,
   "source": [],
   "outputs": [],
   "metadata": {}
  },
  {
   "cell_type": "code",
   "execution_count": null,
   "source": [],
   "outputs": [],
   "metadata": {}
  }
 ],
 "metadata": {
  "orig_nbformat": 4,
  "language_info": {
   "name": "python",
   "version": "3.7.7",
   "mimetype": "text/x-python",
   "codemirror_mode": {
    "name": "ipython",
    "version": 3
   },
   "pygments_lexer": "ipython3",
   "nbconvert_exporter": "python",
   "file_extension": ".py"
  },
  "kernelspec": {
   "name": "python3",
   "display_name": "Python 3.7.7 64-bit (system)"
  },
  "interpreter": {
   "hash": "9789d28df9445cd04b31163c3b9430d93a8aea8fd05e033dd49d31d8725a47fa"
  }
 },
 "nbformat": 4,
 "nbformat_minor": 2
}